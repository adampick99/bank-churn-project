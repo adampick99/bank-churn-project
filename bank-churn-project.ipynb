{
 "cells": [
  {
   "cell_type": "code",
   "execution_count": 2,
   "outputs": [],
   "source": [
    "# Import packages\n",
    "import numpy as np\n",
    "import pandas as pd\n",
    "import seaborn as sns\n",
    "import matplotlib.pyplot as plt\n",
    "import plotly.express as px\n",
    "import missingno as msno\n",
    "from sklearn.model_selection import train_test_split\n",
    "from sklearn.preprocessing import StandardScaler,LabelEncoder\n",
    "import lazypredict\n",
    "from lazypredict.Supervised import LazyClassifier"
   ],
   "metadata": {
    "collapsed": false
   }
  },
  {
   "cell_type": "markdown",
   "source": [
    "Exploring the Data"
   ],
   "metadata": {
    "collapsed": false
   }
  },
  {
   "cell_type": "code",
   "execution_count": 3,
   "outputs": [
    {
     "data": {
      "text/plain": "   customer_id  credit_score country  gender  age  tenure   balance  \\\n0     15634602           619  France  Female   42       2      0.00   \n1     15647311           608   Spain  Female   41       1  83807.86   \n2     15619304           502  France  Female   42       8 159660.80   \n3     15701354           699  France  Female   39       1      0.00   \n4     15737888           850   Spain  Female   43       2 125510.82   \n\n   products_number  credit_card  active_member  estimated_salary  churn  \n0                1            1              1         101348.88      1  \n1                1            0              1         112542.58      0  \n2                3            1              0         113931.57      1  \n3                2            0              0          93826.63      0  \n4                1            1              1          79084.10      0  ",
      "text/html": "<div>\n<style scoped>\n    .dataframe tbody tr th:only-of-type {\n        vertical-align: middle;\n    }\n\n    .dataframe tbody tr th {\n        vertical-align: top;\n    }\n\n    .dataframe thead th {\n        text-align: right;\n    }\n</style>\n<table border=\"1\" class=\"dataframe\">\n  <thead>\n    <tr style=\"text-align: right;\">\n      <th></th>\n      <th>customer_id</th>\n      <th>credit_score</th>\n      <th>country</th>\n      <th>gender</th>\n      <th>age</th>\n      <th>tenure</th>\n      <th>balance</th>\n      <th>products_number</th>\n      <th>credit_card</th>\n      <th>active_member</th>\n      <th>estimated_salary</th>\n      <th>churn</th>\n    </tr>\n  </thead>\n  <tbody>\n    <tr>\n      <th>0</th>\n      <td>15634602</td>\n      <td>619</td>\n      <td>France</td>\n      <td>Female</td>\n      <td>42</td>\n      <td>2</td>\n      <td>0.00</td>\n      <td>1</td>\n      <td>1</td>\n      <td>1</td>\n      <td>101348.88</td>\n      <td>1</td>\n    </tr>\n    <tr>\n      <th>1</th>\n      <td>15647311</td>\n      <td>608</td>\n      <td>Spain</td>\n      <td>Female</td>\n      <td>41</td>\n      <td>1</td>\n      <td>83807.86</td>\n      <td>1</td>\n      <td>0</td>\n      <td>1</td>\n      <td>112542.58</td>\n      <td>0</td>\n    </tr>\n    <tr>\n      <th>2</th>\n      <td>15619304</td>\n      <td>502</td>\n      <td>France</td>\n      <td>Female</td>\n      <td>42</td>\n      <td>8</td>\n      <td>159660.80</td>\n      <td>3</td>\n      <td>1</td>\n      <td>0</td>\n      <td>113931.57</td>\n      <td>1</td>\n    </tr>\n    <tr>\n      <th>3</th>\n      <td>15701354</td>\n      <td>699</td>\n      <td>France</td>\n      <td>Female</td>\n      <td>39</td>\n      <td>1</td>\n      <td>0.00</td>\n      <td>2</td>\n      <td>0</td>\n      <td>0</td>\n      <td>93826.63</td>\n      <td>0</td>\n    </tr>\n    <tr>\n      <th>4</th>\n      <td>15737888</td>\n      <td>850</td>\n      <td>Spain</td>\n      <td>Female</td>\n      <td>43</td>\n      <td>2</td>\n      <td>125510.82</td>\n      <td>1</td>\n      <td>1</td>\n      <td>1</td>\n      <td>79084.10</td>\n      <td>0</td>\n    </tr>\n  </tbody>\n</table>\n</div>"
     },
     "execution_count": 3,
     "metadata": {},
     "output_type": "execute_result"
    }
   ],
   "source": [
    "# Import dataset\n",
    "df = pd.read_csv('Datasets/bankdata.csv')\n",
    "\n",
    "# Head of the dataset\n",
    "df.head()"
   ],
   "metadata": {
    "collapsed": false
   }
  },
  {
   "cell_type": "markdown",
   "source": [
    "Features:\n",
    "1. customer_id - The unique identifier for a particular customer.\n",
    "2. credit_score - A measure of creditworthiness, how reliable a lender the customer is.\n",
    "3. country - Country of residence for the customer.\n",
    "4. gender - Gender of customer.\n",
    "5. age - Age of customer.\n",
    "6. tenure - Length of time the customer has held an account with the bank.\n",
    "7. balance - Amount of money present in the customer's account.\n",
    "8. products_number - The number of distinct products the customer holds with the bank (both a current account, isa, etc.)\n",
    "9. credit_card - Does the customer possess a credit card with the bank? (1/0)\n",
    "10. active_member - Is the customer actively using the bank's services?\n",
    "11. estimated_salary - Estimated total income of the customer.\n",
    "12. churn - Did the customer churn? (1/0) - Target Variable\n",
    "\n",
    "Excluding customer_id, it appears we have 10 potential predictor variables that we can utilise in a model to predict the variable churn.\n",
    "\n",
    "Descriptive Statistics:"
   ],
   "metadata": {
    "collapsed": false
   }
  },
  {
   "cell_type": "code",
   "execution_count": 4,
   "outputs": [
    {
     "data": {
      "text/plain": "       customer_id  credit_score      age   tenure   balance  products_number  \\\ncount     10000.00      10000.00 10000.00 10000.00  10000.00         10000.00   \nmean   15690940.57        650.53    38.92     5.01  76485.89             1.53   \nstd       71936.19         96.65    10.49     2.89  62397.41             0.58   \nmin    15565701.00        350.00    18.00     0.00      0.00             1.00   \n25%    15628528.25        584.00    32.00     3.00      0.00             1.00   \n50%    15690738.00        652.00    37.00     5.00  97198.54             1.00   \n75%    15753233.75        718.00    44.00     7.00 127644.24             2.00   \nmax    15815690.00        850.00    92.00    10.00 250898.09             4.00   \n\n       credit_card  active_member  estimated_salary    churn  \ncount     10000.00       10000.00          10000.00 10000.00  \nmean          0.71           0.52         100090.24     0.20  \nstd           0.46           0.50          57510.49     0.40  \nmin           0.00           0.00             11.58     0.00  \n25%           0.00           0.00          51002.11     0.00  \n50%           1.00           1.00         100193.91     0.00  \n75%           1.00           1.00         149388.25     0.00  \nmax           1.00           1.00         199992.48     1.00  ",
      "text/html": "<div>\n<style scoped>\n    .dataframe tbody tr th:only-of-type {\n        vertical-align: middle;\n    }\n\n    .dataframe tbody tr th {\n        vertical-align: top;\n    }\n\n    .dataframe thead th {\n        text-align: right;\n    }\n</style>\n<table border=\"1\" class=\"dataframe\">\n  <thead>\n    <tr style=\"text-align: right;\">\n      <th></th>\n      <th>customer_id</th>\n      <th>credit_score</th>\n      <th>age</th>\n      <th>tenure</th>\n      <th>balance</th>\n      <th>products_number</th>\n      <th>credit_card</th>\n      <th>active_member</th>\n      <th>estimated_salary</th>\n      <th>churn</th>\n    </tr>\n  </thead>\n  <tbody>\n    <tr>\n      <th>count</th>\n      <td>10000.00</td>\n      <td>10000.00</td>\n      <td>10000.00</td>\n      <td>10000.00</td>\n      <td>10000.00</td>\n      <td>10000.00</td>\n      <td>10000.00</td>\n      <td>10000.00</td>\n      <td>10000.00</td>\n      <td>10000.00</td>\n    </tr>\n    <tr>\n      <th>mean</th>\n      <td>15690940.57</td>\n      <td>650.53</td>\n      <td>38.92</td>\n      <td>5.01</td>\n      <td>76485.89</td>\n      <td>1.53</td>\n      <td>0.71</td>\n      <td>0.52</td>\n      <td>100090.24</td>\n      <td>0.20</td>\n    </tr>\n    <tr>\n      <th>std</th>\n      <td>71936.19</td>\n      <td>96.65</td>\n      <td>10.49</td>\n      <td>2.89</td>\n      <td>62397.41</td>\n      <td>0.58</td>\n      <td>0.46</td>\n      <td>0.50</td>\n      <td>57510.49</td>\n      <td>0.40</td>\n    </tr>\n    <tr>\n      <th>min</th>\n      <td>15565701.00</td>\n      <td>350.00</td>\n      <td>18.00</td>\n      <td>0.00</td>\n      <td>0.00</td>\n      <td>1.00</td>\n      <td>0.00</td>\n      <td>0.00</td>\n      <td>11.58</td>\n      <td>0.00</td>\n    </tr>\n    <tr>\n      <th>25%</th>\n      <td>15628528.25</td>\n      <td>584.00</td>\n      <td>32.00</td>\n      <td>3.00</td>\n      <td>0.00</td>\n      <td>1.00</td>\n      <td>0.00</td>\n      <td>0.00</td>\n      <td>51002.11</td>\n      <td>0.00</td>\n    </tr>\n    <tr>\n      <th>50%</th>\n      <td>15690738.00</td>\n      <td>652.00</td>\n      <td>37.00</td>\n      <td>5.00</td>\n      <td>97198.54</td>\n      <td>1.00</td>\n      <td>1.00</td>\n      <td>1.00</td>\n      <td>100193.91</td>\n      <td>0.00</td>\n    </tr>\n    <tr>\n      <th>75%</th>\n      <td>15753233.75</td>\n      <td>718.00</td>\n      <td>44.00</td>\n      <td>7.00</td>\n      <td>127644.24</td>\n      <td>2.00</td>\n      <td>1.00</td>\n      <td>1.00</td>\n      <td>149388.25</td>\n      <td>0.00</td>\n    </tr>\n    <tr>\n      <th>max</th>\n      <td>15815690.00</td>\n      <td>850.00</td>\n      <td>92.00</td>\n      <td>10.00</td>\n      <td>250898.09</td>\n      <td>4.00</td>\n      <td>1.00</td>\n      <td>1.00</td>\n      <td>199992.48</td>\n      <td>1.00</td>\n    </tr>\n  </tbody>\n</table>\n</div>"
     },
     "execution_count": 4,
     "metadata": {},
     "output_type": "execute_result"
    }
   ],
   "source": [
    "df.describe()"
   ],
   "metadata": {
    "collapsed": false
   }
  },
  {
   "cell_type": "code",
   "execution_count": 5,
   "outputs": [
    {
     "data": {
      "text/plain": "customer_id         0\ncredit_score        0\ncountry             0\ngender              0\nage                 0\ntenure              0\nbalance             0\nproducts_number     0\ncredit_card         0\nactive_member       0\nestimated_salary    0\nchurn               0\ndtype: int64"
     },
     "execution_count": 5,
     "metadata": {},
     "output_type": "execute_result"
    }
   ],
   "source": [
    "df.isnull().sum()"
   ],
   "metadata": {
    "collapsed": false
   }
  },
  {
   "cell_type": "markdown",
   "source": [
    "Through analysis of the descriptive statistics above, 20% of the customer pool of 10000 have churned. We also have no N/A variables so there is no need to clean data here or impute any variables."
   ],
   "metadata": {
    "collapsed": false
   }
  },
  {
   "cell_type": "code",
   "execution_count": 23,
   "outputs": [
    {
     "data": {
      "text/plain": "country\nFrance     5014\nGermany    2509\nSpain      2477\nName: customer_id, dtype: int64"
     },
     "execution_count": 23,
     "metadata": {},
     "output_type": "execute_result"
    }
   ],
   "source": [
    "# What countries are our customers from, and what's the exposure in said countries?\n",
    "df.groupby('country')['customer_id'].count()"
   ],
   "metadata": {
    "collapsed": false
   }
  },
  {
   "cell_type": "markdown",
   "source": [
    "So we have data from 3 particular countries, with around 11 x 10000 = 110000 observations.\n",
    "\n",
    "Exploratory Data Analysis"
   ],
   "metadata": {
    "collapsed": false
   }
  },
  {
   "cell_type": "code",
   "execution_count": 24,
   "outputs": [],
   "source": [
    "# EDA\n",
    "\n",
    "features = df.keys()"
   ],
   "metadata": {
    "collapsed": false
   }
  },
  {
   "cell_type": "markdown",
   "source": [],
   "metadata": {
    "collapsed": false
   }
  }
 ],
 "metadata": {
  "kernelspec": {
   "display_name": "Python 3",
   "language": "python",
   "name": "python3"
  },
  "language_info": {
   "codemirror_mode": {
    "name": "ipython",
    "version": 2
   },
   "file_extension": ".py",
   "mimetype": "text/x-python",
   "name": "python",
   "nbconvert_exporter": "python",
   "pygments_lexer": "ipython2",
   "version": "2.7.6"
  }
 },
 "nbformat": 4,
 "nbformat_minor": 0
}
